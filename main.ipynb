{
 "cells": [
  {
   "cell_type": "markdown",
   "id": "9fee5ee9",
   "metadata": {},
   "source": [
    "# Examen Parcial n°1 2da Parte - TLP3 - Python para Ciencia de Datos.\n"
   ]
  },
  {
   "cell_type": "markdown",
   "id": "999099d0",
   "metadata": {},
   "source": [
    "**A partir del datasets brindado, realizar los siguientes procedimientos:**\n",
    "\n",
    "* Importar datasets con Pandas.\n",
    "* Explorar los datos con los metodos correspondientes. \n",
    "* Limpieza de los datos (Normalización de datos).\n",
    "* Obtener estadisticas.\n",
    "* Mostrar los datos procesados con graficos utilizando la libreria Matplotlib.\n",
    "* Exportar el contenido a un archivo sqlite utilizando PANDAS.\n",
    "\n",
    "\n",
    "**Importante: Se debe documentar cada procedimiento realizado, siguiendo la siguiente estructura:**\n",
    "\n",
    "1. Celda de Markdown (Documentación)\n",
    "2. Código (Sin comentarios, se debe documentar lo sufiente solo en la celda de markdown).\n",
    "\n",
    "\n",
    "### Criterios de Evaluación:\n",
    "\n",
    "1. No esta permitido el uso de IAs durante el examen. (Desactivar Copilot o cualquier herramienta de IA para autocompletar codigo.)\n",
    "\n",
    "2. Se deben utilizar nombres de variables descriptivos y claros (Utilizar la nomeclatura correspondiente para los nombres de variables).\n",
    "\n",
    "3. Comentarios claros y concisos que expliquen el propósito de cada sección del código en una celda de markdown antes del código.\n",
    "\n",
    "4. Utilizar mensajes de commit descriptivos. (Puedes utilizar la extension CONVENTIONAL COMMIT de VS-CODE).\n",
    "\n",
    "5. Entrega en tiempo y forma (Parciales entregados fuera de hora o con commits pasados el horario de entrega quedará invalidado.)\n",
    "\n",
    "6. Todo el código desarrollado debe ser subido a un repositorio en GitHub (el nombre del repositorio de seguir la siguiente estructura: \n",
    "**parcial1_tlp3_nombre_apellido**).\n",
    "\n",
    "7. Para resolver las actividades se debe insertar casillas de codigo entre cada actividad del cuaderno de Jupyter.\n",
    "\n",
    "8. Deben trabajar con el datasets adjunto.\n",
    "\n",
    "9. Una vez finalizado el examen, los resultados deben quedar guardados debajo de cada celda (NO EJECUTAR LA OPCIÓN \"borrar todas las salidas\").\n",
    "\n",
    "**Importante:** Una vez finalizado el examen, marcar como completado en el classroom."
   ]
  },
  {
   "cell_type": "markdown",
   "id": "dd91f969",
   "metadata": {},
   "source": [
    "## Actividades: \n",
    "### 1. Importación del Dataset con Pandas\n",
    "\n",
    "En esta sección, se debe utilizar la librería Pandas para cargar el archivo CSV que contiene los datos de VENTAS en un DataFrame.\n",
    "\n",
    "### 2. Exploración Inicial de los Datos\n",
    "\n",
    "A continuación, se deben emplear métodos de Pandas para obtener una visión general del dataset. \n",
    "- 2.1: Visualizar las primeras filas y ultimas.\n",
    "- 2.2: Obtener informacion del df con su metodo correspondiente.\n",
    "- 2.3: Hacer un conteo de valores nulos.\n",
    "\n",
    "### 3. Limpieza y Normalización de los Datos\n",
    "\n",
    "- 3.1. Esta etapa crucial deben aplicar la corrección de diversos errores presentes en el dataset. Se abordarán los valores faltantes (Deben aplicar los metodos que ustedes crean convenientes **(Solo 1)**, por ejemplo: Eliminación de filas, cubrir valores con media, mediana, etc.)\n",
    "- 3.2: La columna Fecha deberan pasarla al tipo datetime con su metodo correspondiente.\n",
    "- 3.3: Corregir las mayusculas en el caso de Nombre y Apellido (Si es que corresponde.)\n",
    "\n",
    "\n",
    "### 4. Obtención de Estadísticas Descriptivas\n",
    "\n",
    "Después de la limpieza, deben hacer lo siguiente: \n",
    "\n",
    "- 4.1: calcular nuevamente las estadísticas descriptivas para observar el impacto del proceso de limpieza en los datos numéricos.\n",
    "- 4.2: Calcular estadísticas específicas por grupo (Agrupar dos columnas).\n",
    "\n",
    "### 5. Visualización de los Datos con Matplotlib\n",
    "\n",
    "En esta sección, deben utilizar la librería Matplotlib para crear **UNA** visualización que permitan comprender mejor los datos de ventas.El grafico es a elección, puede crear **UNO** de los siguientes: histogramas, diagramas de dispersión, gráficos de barras y graficos de torta.\n",
    "\n",
    "### 6. Exportación a Archivo SQLite\n",
    "\n",
    "Finalmente, deben utilizar la funcionalidad de Pandas para guardar el DataFrame procesado en una base de datos SQLite. Deben hacer una conexión y hacer una consulta para ver si los datos fueron cargados correctamente.\n",
    "\n"
   ]
  },
  {
   "cell_type": "markdown",
   "id": "0be58620",
   "metadata": {},
   "source": [
    "## Importaciones"
   ]
  },
  {
   "cell_type": "code",
   "execution_count": 7,
   "id": "b8e36fc8",
   "metadata": {},
   "outputs": [],
   "source": [
    "# Se procede a realizar las importaciones correspondientes\n",
    "import pandas as pd\n",
    "import sqlite3\n",
    "import matplotlib.pyplot as plt\n"
   ]
  },
  {
   "cell_type": "markdown",
   "id": "6a312b6d",
   "metadata": {},
   "source": [
    "## Actividad Nº 1"
   ]
  },
  {
   "cell_type": "code",
   "execution_count": 8,
   "id": "ce35868a",
   "metadata": {},
   "outputs": [],
   "source": [
    "# Se procede a crear el dataframe a partir del archivo CSV\n",
    "df = pd.read_csv(\"ventas.csv\")"
   ]
  },
  {
   "cell_type": "markdown",
   "id": "10e708d7",
   "metadata": {},
   "source": [
    "## Actividad Nº 2"
   ]
  },
  {
   "cell_type": "code",
   "execution_count": 10,
   "id": "6faf1d5b",
   "metadata": {},
   "outputs": [
    {
     "name": "stdout",
     "output_type": "stream",
     "text": [
      "   ID_Venta Nombre_Cliente Apellido_Cliente       Fecha  \\\n",
      "0         1            Ana           García  01-05-2024   \n",
      "1         2         Carlos            López  2024-01-08   \n",
      "2         3          sofía         martínez  2024-01-12   \n",
      "3         4          pedro        rodríguez  2024-01-15   \n",
      "4         5          Laura          Sánchez  18-01-2024   \n",
      "\n",
      "                Producto  Cantidad  Precio_Unitario  Total_Venta  \\\n",
      "0                 Laptop         1          1200.50      1200.50   \n",
      "1      Mouse Inalámbrico         2            25.75        51.50   \n",
      "2       Teclado Mecánico         1            75.99        75.99   \n",
      "3    Monitor 24 pulgadas         1              NaN          NaN   \n",
      "4  Auriculares Bluetooth         1            99.95        99.95   \n",
      "\n",
      "              Metodo_Pago Region  \n",
      "0      Tarjeta de Crédito  Norte  \n",
      "1                Efectivo    Sur  \n",
      "2  Transferencia Bancaria   Este  \n",
      "3       Tarjeta de Débito  Oeste  \n",
      "4      Tarjeta de Crédito  Norte  \n",
      "-------------------------------------------------------\n",
      "     ID_Venta Nombre_Cliente Apellido_Cliente       Fecha  \\\n",
      "100       101        Agustín           Torres  2024-10-08   \n",
      "101       102         Camila             Vega  2024-10-11   \n",
      "102       103           Juan            Rojas  2024-10-15   \n",
      "103       104          Lucía            Silva  2024-10-18   \n",
      "104       105          mateo             luna  2024-10-22   \n",
      "\n",
      "                 Producto  Cantidad  Precio_Unitario  Total_Venta  \\\n",
      "100        Pen Drive 64GB         4             8.75         35.0   \n",
      "101         Laptop Ligera         1              NaN       1180.0   \n",
      "102                   NaN         1            48.99          NaN   \n",
      "103     Teclado Bluetooth         1            78.20         78.2   \n",
      "104  Monitor para Oficina         1             2.00        210.5   \n",
      "\n",
      "                Metodo_Pago Region  \n",
      "100       Tarjeta de Débito  Oeste  \n",
      "101      Tarjeta de Crédito  Norte  \n",
      "102                Efectivo    Sur  \n",
      "103  Transferencia Bancaria   Este  \n",
      "104       Tarjeta de Débito  Oeste  \n"
     ]
    }
   ],
   "source": [
    "# Se procede a realizar la exploracion inicial \n",
    "# 2.1:\n",
    "print(df.head()) #Muestra las primeras 5 filas del dataframe\n",
    "print(\"-------------------------------------------------------\")\n",
    "print(df.tail()) #Muestra las ultimas 5 filas del dataframe"
   ]
  },
  {
   "cell_type": "code",
   "execution_count": null,
   "id": "e3a83ce9",
   "metadata": {},
   "outputs": [
    {
     "name": "stdout",
     "output_type": "stream",
     "text": [
      "<class 'pandas.core.frame.DataFrame'>\n",
      "RangeIndex: 105 entries, 0 to 104\n",
      "Data columns (total 10 columns):\n",
      " #   Column            Non-Null Count  Dtype  \n",
      "---  ------            --------------  -----  \n",
      " 0   ID_Venta          105 non-null    int64  \n",
      " 1   Nombre_Cliente    105 non-null    object \n",
      " 2   Apellido_Cliente  105 non-null    object \n",
      " 3   Fecha             105 non-null    object \n",
      " 4   Producto          101 non-null    object \n",
      " 5   Cantidad          105 non-null    int64  \n",
      " 6   Precio_Unitario   92 non-null     float64\n",
      " 7   Total_Venta       92 non-null     float64\n",
      " 8   Metodo_Pago       94 non-null     object \n",
      " 9   Region            100 non-null    object \n",
      "dtypes: float64(2), int64(2), object(6)\n",
      "memory usage: 8.3+ KB\n"
     ]
    }
   ],
   "source": [
    "#2.2:\n",
    "df.info() #Muestra la informacion del dataframe como valores nulos o el tipo de datos."
   ]
  },
  {
   "cell_type": "code",
   "execution_count": 12,
   "id": "9ac2e5d9",
   "metadata": {},
   "outputs": [
    {
     "data": {
      "text/plain": [
       "ID_Venta             0\n",
       "Nombre_Cliente       0\n",
       "Apellido_Cliente     0\n",
       "Fecha                0\n",
       "Producto             4\n",
       "Cantidad             0\n",
       "Precio_Unitario     13\n",
       "Total_Venta         13\n",
       "Metodo_Pago         11\n",
       "Region               5\n",
       "dtype: int64"
      ]
     },
     "execution_count": 12,
     "metadata": {},
     "output_type": "execute_result"
    }
   ],
   "source": [
    "#2.3:\n",
    "df.isnull().sum() #Muestra la cantidad de nulos."
   ]
  },
  {
   "cell_type": "markdown",
   "id": "925cfa59",
   "metadata": {},
   "source": [
    "## Actividad Nº3"
   ]
  },
  {
   "cell_type": "code",
   "execution_count": null,
   "id": "d4e9a6f3",
   "metadata": {},
   "outputs": [],
   "source": [
    "#3.1 \n",
    "#Se procede a limpiar valores nulos\n",
    "media1 = df[\"Precio_Unitario\"].mean() # Para calcular la media.\n",
    "df[\"Precio_Unitario\"] = df[\"Precio_Unitario\"].fillna(media1) # Reemplaza los valores nulos con la media.\n",
    "\n",
    "media2 = df[\"Total_Venta\"].mean()\n",
    "df[\"Total_Venta\"] = df[\"Total_Venta\"].fillna(media2)\n",
    "\n",
    "moda1 = df[\"Metodo_Pago\"].mode()[0] # Para calcular la moda\n",
    "df[\"Metodo_Pago\"] = df[\"Metodo_Pago\"].fillna(moda1) # Reemplaza valores nulos por la moda.\n",
    "\n",
    "moda2 = df[\"Producto\"].mode()[0]\n",
    "df[\"Producto\"] = df[\"Producto\"].fillna(moda2)\n",
    "\n",
    "moda3 = df[\"Region\"].mode()[0] \n",
    "df[\"Region\"] = df[\"Region\"].fillna(moda3) \n",
    "\n"
   ]
  },
  {
   "cell_type": "code",
   "execution_count": 15,
   "id": "288b4f5d",
   "metadata": {},
   "outputs": [
    {
     "data": {
      "text/plain": [
       "ID_Venta            0\n",
       "Nombre_Cliente      0\n",
       "Apellido_Cliente    0\n",
       "Fecha               0\n",
       "Producto            0\n",
       "Cantidad            0\n",
       "Precio_Unitario     0\n",
       "Total_Venta         0\n",
       "Metodo_Pago         0\n",
       "Region              0\n",
       "dtype: int64"
      ]
     },
     "execution_count": 15,
     "metadata": {},
     "output_type": "execute_result"
    }
   ],
   "source": [
    "df.isnull().sum() #Muestra si aun quedan valores nulos."
   ]
  },
  {
   "cell_type": "code",
   "execution_count": 23,
   "id": "dc1a6d71",
   "metadata": {},
   "outputs": [
    {
     "name": "stdout",
     "output_type": "stream",
     "text": [
      "0     2024-05-01\n",
      "1     2024-01-08\n",
      "2     2024-01-12\n",
      "3     2024-01-15\n",
      "4     2024-01-18\n",
      "         ...    \n",
      "100   2024-10-08\n",
      "101   2024-10-11\n",
      "102   2024-10-15\n",
      "103   2024-10-18\n",
      "104   2024-10-22\n",
      "Name: Fecha, Length: 105, dtype: datetime64[ns]\n"
     ]
    }
   ],
   "source": [
    "#3.2\n",
    "serie = df[\"Fecha\"] #Se hace la serie.\n",
    "serie = pd.Series(serie)# Se convierte a series\n",
    "\n",
    "serie1 = pd.to_datetime(serie, format=\"%Y-%m-%d\" , errors =\"coerce\")\n",
    "serie2 = pd.to_datetime(serie, format=\"%d-%m-%Y\" , errors =\"coerce\")\n",
    "\n",
    "serie_resultante = serie1.combine_first(serie2)\n",
    "print(serie_resultante)"
   ]
  },
  {
   "cell_type": "code",
   "execution_count": 20,
   "id": "9e9ff49e",
   "metadata": {},
   "outputs": [
    {
     "name": "stdout",
     "output_type": "stream",
     "text": [
      "0       Ana\n",
      "1    Carlos\n",
      "2     Sofía\n",
      "3     Pedro\n",
      "4     Laura\n",
      "Name: Nombre_Cliente, dtype: object\n",
      "---------------------------------\n",
      "0       García\n",
      "1        López\n",
      "2     Martínez\n",
      "3    Rodríguez\n",
      "4      Sánchez\n",
      "Name: Apellido_Cliente, dtype: object\n"
     ]
    }
   ],
   "source": [
    "#3.3\n",
    "# Se procede a convertir a formato titulo los valores de Nombre_Cliente y Apellido_Cliente.\n",
    "df[\"Nombre_Cliente\"] = df[\"Nombre_Cliente\"].astype(str).str.title()\n",
    "df[\"Apellido_Cliente\"] = df[\"Apellido_Cliente\"].astype(str).str.title()\n",
    "print(df[\"Nombre_Cliente\"].head())\n",
    "print(\"---------------------------------\")\n",
    "print(df[\"Apellido_Cliente\"].head())\n"
   ]
  },
  {
   "cell_type": "markdown",
   "id": "aed3dbd7",
   "metadata": {},
   "source": [
    "## Actividad Nº 4"
   ]
  },
  {
   "cell_type": "code",
   "execution_count": null,
   "id": "217426c3",
   "metadata": {},
   "outputs": [
    {
     "name": "stdout",
     "output_type": "stream",
     "text": [
      "   ID_Venta Nombre_Cliente Apellido_Cliente       Fecha  \\\n",
      "0         1            Ana           García  01-05-2024   \n",
      "1         2         Carlos            López  2024-01-08   \n",
      "2         3          Sofía         Martínez  2024-01-12   \n",
      "3         4          Pedro        Rodríguez  2024-01-15   \n",
      "4         5          Laura          Sánchez  18-01-2024   \n",
      "\n",
      "                Producto  Cantidad  Precio_Unitario  Total_Venta  \\\n",
      "0                 Laptop         1      1200.500000  1200.500000   \n",
      "1      Mouse Inalámbrico         2        25.750000    51.500000   \n",
      "2       Teclado Mecánico         1        75.990000    75.990000   \n",
      "3    Monitor 24 pulgadas         1       240.609239   251.062609   \n",
      "4  Auriculares Bluetooth         1        99.950000    99.950000   \n",
      "\n",
      "              Metodo_Pago Region  \n",
      "0      Tarjeta de Crédito  Norte  \n",
      "1                Efectivo    Sur  \n",
      "2  Transferencia Bancaria   Este  \n",
      "3       Tarjeta de Débito  Oeste  \n",
      "4      Tarjeta de Crédito  Norte  \n",
      "------------------------------------------\n",
      "     ID_Venta Nombre_Cliente Apellido_Cliente       Fecha  \\\n",
      "100       101        Agustín           Torres  2024-10-08   \n",
      "101       102         Camila             Vega  2024-10-11   \n",
      "102       103           Juan            Rojas  2024-10-15   \n",
      "103       104          Lucía            Silva  2024-10-18   \n",
      "104       105          Mateo             Luna  2024-10-22   \n",
      "\n",
      "                 Producto  Cantidad  Precio_Unitario  Total_Venta  \\\n",
      "100        Pen Drive 64GB         4         8.750000    35.000000   \n",
      "101         Laptop Ligera         1       240.609239  1180.000000   \n",
      "102                Laptop         1        48.990000   251.062609   \n",
      "103     Teclado Bluetooth         1        78.200000    78.200000   \n",
      "104  Monitor para Oficina         1         2.000000   210.500000   \n",
      "\n",
      "                Metodo_Pago Region  \n",
      "100       Tarjeta de Débito  Oeste  \n",
      "101      Tarjeta de Crédito  Norte  \n",
      "102                Efectivo    Sur  \n",
      "103  Transferencia Bancaria   Este  \n",
      "104       Tarjeta de Débito  Oeste  \n"
     ]
    }
   ],
   "source": [
    "#Se muestran cambios en el dataframe\n",
    "print(df.head())\n",
    "print(\"------------------------------------------\")\n",
    "print(df.tail())\n"
   ]
  },
  {
   "cell_type": "code",
   "execution_count": 26,
   "id": "580b9c7b",
   "metadata": {},
   "outputs": [
    {
     "name": "stdout",
     "output_type": "stream",
     "text": [
      "<class 'pandas.core.frame.DataFrame'>\n",
      "RangeIndex: 105 entries, 0 to 104\n",
      "Data columns (total 10 columns):\n",
      " #   Column            Non-Null Count  Dtype  \n",
      "---  ------            --------------  -----  \n",
      " 0   ID_Venta          105 non-null    int64  \n",
      " 1   Nombre_Cliente    105 non-null    object \n",
      " 2   Apellido_Cliente  105 non-null    object \n",
      " 3   Fecha             105 non-null    object \n",
      " 4   Producto          105 non-null    object \n",
      " 5   Cantidad          105 non-null    int64  \n",
      " 6   Precio_Unitario   105 non-null    float64\n",
      " 7   Total_Venta       105 non-null    float64\n",
      " 8   Metodo_Pago       105 non-null    object \n",
      " 9   Region            105 non-null    object \n",
      "dtypes: float64(2), int64(2), object(6)\n",
      "memory usage: 8.3+ KB\n",
      "None\n"
     ]
    }
   ],
   "source": [
    "print(df.info())"
   ]
  },
  {
   "cell_type": "code",
   "execution_count": 35,
   "id": "c689cf0e",
   "metadata": {},
   "outputs": [
    {
     "name": "stdout",
     "output_type": "stream",
     "text": [
      "Precio Promedio:\n",
      "240.60923913043482\n",
      "Venta Promedio:\n",
      "251.06260869565216\n"
     ]
    }
   ],
   "source": [
    "# Estadisticas:\n",
    "print(\"Precio Promedio:\")\n",
    "print(df[\"Precio_Unitario\"].mean())\n",
    "print(\"Venta Promedio:\")\n",
    "print(df[\"Total_Venta\"].mean())\n"
   ]
  },
  {
   "cell_type": "code",
   "execution_count": null,
   "id": "a5894251",
   "metadata": {},
   "outputs": [
    {
     "name": "stdout",
     "output_type": "stream",
     "text": [
      "Precio Promedio por Producto\n",
      "Producto\n",
      "Altavoces Inteligentes     70.00\n",
      "Auriculares Bluetooth     170.28\n",
      "Auriculares Deportivos     75.50\n",
      "Auriculares In-Ear         49.99\n",
      "Auriculares Over-Ear      120.75\n",
      "                           ...  \n",
      "Teclado RGB               110.50\n",
      "Teclado Retroiluminado     85.00\n",
      "Webcam 4K                  79.99\n",
      "Webcam Básica             240.61\n",
      "Webcam HD                  45.50\n",
      "Name: Precio_Unitario, Length: 77, dtype: float64\n"
     ]
    }
   ],
   "source": [
    "# Estadisticas por grupo\n",
    "print(\"Precio Promedio por Producto\")\n",
    "promedio = df[\"Precio_Unitario\"].mean()\n",
    "print(df.groupby(\"Producto\")[\"Precio_Unitario\"].mean().round(2)) "
   ]
  }
 ],
 "metadata": {
  "kernelspec": {
   "display_name": "env",
   "language": "python",
   "name": "python3"
  },
  "language_info": {
   "codemirror_mode": {
    "name": "ipython",
    "version": 3
   },
   "file_extension": ".py",
   "mimetype": "text/x-python",
   "name": "python",
   "nbconvert_exporter": "python",
   "pygments_lexer": "ipython3",
   "version": "3.13.3"
  }
 },
 "nbformat": 4,
 "nbformat_minor": 5
}
